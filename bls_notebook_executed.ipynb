{
 "cells": [
  {
   "cell_type": "code",
   "execution_count": 1,
   "metadata": {
    "execution": {
     "iopub.execute_input": "2022-01-08T05:22:41.302615Z",
     "iopub.status.busy": "2022-01-08T05:22:41.301906Z",
     "iopub.status.idle": "2022-01-08T05:22:41.671857Z",
     "shell.execute_reply": "2022-01-08T05:22:41.671004Z"
    }
   },
   "outputs": [],
   "source": [
    "from IPython.display import Markdown as md\n",
    "import datetime\n",
    "import pandas as pd\n",
    "from dotenv import load_dotenv\n",
    "import os\n",
    "import sys\n",
    "sys.path.append(\"../\")\n",
    "from src.upload_download_bitdotio import download_dataset\n",
    "\n",
    "load_dotenv()\n",
    "PG_STRING = os.getenv(\"BITIO_PG_STRING\")\n",
    "BITIO_REPO = '\"bitdotio/bls_quit_rate\"'\n",
    "QUIT_RATE_TABLE = BITIO_REPO + '.\"quit_rate\"'"
   ]
  },
  {
   "cell_type": "code",
   "execution_count": 2,
   "metadata": {
    "execution": {
     "iopub.execute_input": "2022-01-08T05:22:41.682679Z",
     "iopub.status.busy": "2022-01-08T05:22:41.679521Z",
     "iopub.status.idle": "2022-01-08T05:22:41.688073Z",
     "shell.execute_reply": "2022-01-08T05:22:41.688660Z"
    }
   },
   "outputs": [
    {
     "data": {
      "text/markdown": [
       "Last Updated: 2022-01-08"
      ],
      "text/plain": [
       "<IPython.core.display.Markdown object>"
      ]
     },
     "execution_count": 2,
     "metadata": {},
     "output_type": "execute_result"
    }
   ],
   "source": [
    "md(\"Last Updated: {}\".format(datetime.datetime.now().strftime(\"%Y-%m-%d\")))"
   ]
  },
  {
   "cell_type": "markdown",
   "metadata": {},
   "source": [
    "# Bureau of Labor Statistics (BLS) Quit Rate Data\n",
    "\n",
    "This notebook includes some exploratory figures about the Bureau of Labor Statistics (BLS) quit rate data from the [Job Openings and Labor Turnover Survey](https://www.bls.gov/jlt/#data). The notebook is automatically updated weekly, though manual updates can be executed as needed."
   ]
  },
  {
   "cell_type": "code",
   "execution_count": 3,
   "metadata": {
    "execution": {
     "iopub.execute_input": "2022-01-08T05:22:41.694081Z",
     "iopub.status.busy": "2022-01-08T05:22:41.693504Z",
     "iopub.status.idle": "2022-01-08T05:22:44.939066Z",
     "shell.execute_reply": "2022-01-08T05:22:44.939542Z"
    }
   },
   "outputs": [
    {
     "data": {
      "text/html": [
       "<div>\n",
       "<style scoped>\n",
       "    .dataframe tbody tr th:only-of-type {\n",
       "        vertical-align: middle;\n",
       "    }\n",
       "\n",
       "    .dataframe tbody tr th {\n",
       "        vertical-align: top;\n",
       "    }\n",
       "\n",
       "    .dataframe thead th {\n",
       "        text-align: right;\n",
       "    }\n",
       "</style>\n",
       "<table border=\"1\" class=\"dataframe\">\n",
       "  <thead>\n",
       "    <tr style=\"text-align: right;\">\n",
       "      <th></th>\n",
       "      <th>series</th>\n",
       "      <th>name</th>\n",
       "      <th>year</th>\n",
       "      <th>date</th>\n",
       "      <th>state</th>\n",
       "      <th>state_code</th>\n",
       "      <th>value</th>\n",
       "      <th>footnotes</th>\n",
       "      <th>period</th>\n",
       "      <th>seasonal_adjustment</th>\n",
       "    </tr>\n",
       "  </thead>\n",
       "  <tbody>\n",
       "    <tr>\n",
       "      <th>0</th>\n",
       "      <td>JTS000000000000000QUR</td>\n",
       "      <td>Quit Rate (Seasonally Adjusted)</td>\n",
       "      <td>2020</td>\n",
       "      <td>2020-12-01 00:00:00</td>\n",
       "      <td>Total US</td>\n",
       "      <td>00</td>\n",
       "      <td>2.4</td>\n",
       "      <td>None</td>\n",
       "      <td>M12</td>\n",
       "      <td>S</td>\n",
       "    </tr>\n",
       "    <tr>\n",
       "      <th>1</th>\n",
       "      <td>JTS000000000000000QUR</td>\n",
       "      <td>Quit Rate (Seasonally Adjusted)</td>\n",
       "      <td>2020</td>\n",
       "      <td>2020-11-01 00:00:00</td>\n",
       "      <td>Total US</td>\n",
       "      <td>00</td>\n",
       "      <td>2.3</td>\n",
       "      <td>None</td>\n",
       "      <td>M11</td>\n",
       "      <td>S</td>\n",
       "    </tr>\n",
       "    <tr>\n",
       "      <th>2</th>\n",
       "      <td>JTS000000000000000QUR</td>\n",
       "      <td>Quit Rate (Seasonally Adjusted)</td>\n",
       "      <td>2020</td>\n",
       "      <td>2020-10-01 00:00:00</td>\n",
       "      <td>Total US</td>\n",
       "      <td>00</td>\n",
       "      <td>2.4</td>\n",
       "      <td>None</td>\n",
       "      <td>M10</td>\n",
       "      <td>S</td>\n",
       "    </tr>\n",
       "    <tr>\n",
       "      <th>3</th>\n",
       "      <td>JTS000000000000000QUR</td>\n",
       "      <td>Quit Rate (Seasonally Adjusted)</td>\n",
       "      <td>2020</td>\n",
       "      <td>2020-09-01 00:00:00</td>\n",
       "      <td>Total US</td>\n",
       "      <td>00</td>\n",
       "      <td>2.3</td>\n",
       "      <td>None</td>\n",
       "      <td>M09</td>\n",
       "      <td>S</td>\n",
       "    </tr>\n",
       "    <tr>\n",
       "      <th>4</th>\n",
       "      <td>JTS000000000000000QUR</td>\n",
       "      <td>Quit Rate (Seasonally Adjusted)</td>\n",
       "      <td>2020</td>\n",
       "      <td>2020-08-01 00:00:00</td>\n",
       "      <td>Total US</td>\n",
       "      <td>00</td>\n",
       "      <td>2.1</td>\n",
       "      <td>None</td>\n",
       "      <td>M08</td>\n",
       "      <td>S</td>\n",
       "    </tr>\n",
       "  </tbody>\n",
       "</table>\n",
       "</div>"
      ],
      "text/plain": [
       "                  series                             name  year  \\\n",
       "0  JTS000000000000000QUR  Quit Rate (Seasonally Adjusted)  2020   \n",
       "1  JTS000000000000000QUR  Quit Rate (Seasonally Adjusted)  2020   \n",
       "2  JTS000000000000000QUR  Quit Rate (Seasonally Adjusted)  2020   \n",
       "3  JTS000000000000000QUR  Quit Rate (Seasonally Adjusted)  2020   \n",
       "4  JTS000000000000000QUR  Quit Rate (Seasonally Adjusted)  2020   \n",
       "\n",
       "                  date     state state_code value footnotes period  \\\n",
       "0  2020-12-01 00:00:00  Total US         00   2.4      None    M12   \n",
       "1  2020-11-01 00:00:00  Total US         00   2.3      None    M11   \n",
       "2  2020-10-01 00:00:00  Total US         00   2.4      None    M10   \n",
       "3  2020-09-01 00:00:00  Total US         00   2.3      None    M09   \n",
       "4  2020-08-01 00:00:00  Total US         00   2.1      None    M08   \n",
       "\n",
       "  seasonal_adjustment  \n",
       "0                   S  \n",
       "1                   S  \n",
       "2                   S  \n",
       "3                   S  \n",
       "4                   S  "
      ]
     },
     "execution_count": 3,
     "metadata": {},
     "output_type": "execute_result"
    }
   ],
   "source": [
    "quit_rate = download_dataset(target=QUIT_RATE_TABLE, pg_string=PG_STRING)\n",
    "quit_rate.head()"
   ]
  }
 ],
 "metadata": {
  "interpreter": {
   "hash": "597af106cf430677a84c9517b07dd48fb8609f26401852b95ac2715f4221bc14"
  },
  "kernelspec": {
   "display_name": "Python 3.9.7 64-bit ('env': venv)",
   "language": "python",
   "name": "python3"
  },
  "language_info": {
   "codemirror_mode": {
    "name": "ipython",
    "version": 3
   },
   "file_extension": ".py",
   "mimetype": "text/x-python",
   "name": "python",
   "nbconvert_exporter": "python",
   "pygments_lexer": "ipython3",
   "version": "3.9.9"
  }
 },
 "nbformat": 4,
 "nbformat_minor": 2
}
