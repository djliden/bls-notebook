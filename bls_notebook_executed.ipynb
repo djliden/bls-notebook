{
 "cells": [
  {
   "cell_type": "code",
   "execution_count": 1,
   "metadata": {
    "execution": {
     "iopub.execute_input": "2022-01-04T18:35:24.214073Z",
     "iopub.status.busy": "2022-01-04T18:35:24.213589Z",
     "iopub.status.idle": "2022-01-04T18:35:24.446839Z",
     "shell.execute_reply": "2022-01-04T18:35:24.445963Z"
    }
   },
   "outputs": [],
   "source": [
    "from IPython.display import Markdown as md\n",
    "import datetime\n",
    "import pandas as pd\n",
    "from dotenv import load_dotenv\n",
    "import os\n",
    "\n",
    "load_dotenv()\n",
    "PG_STRING = os.getenv(\"BITIO_PG_STRING\")\n",
    "BITIO_REPO = \"bitdotio/bls_quit_rate\""
   ]
  },
  {
   "cell_type": "code",
   "execution_count": 2,
   "metadata": {
    "execution": {
     "iopub.execute_input": "2022-01-04T18:35:24.455550Z",
     "iopub.status.busy": "2022-01-04T18:35:24.450025Z",
     "iopub.status.idle": "2022-01-04T18:35:24.460778Z",
     "shell.execute_reply": "2022-01-04T18:35:24.460393Z"
    }
   },
   "outputs": [
    {
     "data": {
      "text/markdown": [
       "Last Updated: 2022-01-04"
      ],
      "text/plain": [
       "<IPython.core.display.Markdown object>"
      ]
     },
     "execution_count": 2,
     "metadata": {},
     "output_type": "execute_result"
    }
   ],
   "source": [
    "md(\"Last Updated: {}\".format(datetime.datetime.now().strftime(\"%Y-%m-%d\")))"
   ]
  },
  {
   "cell_type": "markdown",
   "metadata": {},
   "source": [
    "# Bureau of Labor Statistics (BLS) Quit Rate Data\n",
    "\n",
    "This notebook includes some exploratory figures about the Bureau of Labor Statistics (BLS) quit rate data from the [Job Openings and Labor Turnover Survey](https://www.bls.gov/jlt/#data). The notebook is automatically updated weekly, though manual updates can be executed as needed."
   ]
  },
  {
   "cell_type": "markdown",
   "metadata": {},
   "source": []
  }
 ],
 "metadata": {
  "interpreter": {
   "hash": "597af106cf430677a84c9517b07dd48fb8609f26401852b95ac2715f4221bc14"
  },
  "kernelspec": {
   "display_name": "Python 3.9.7 64-bit ('env': venv)",
   "language": "python",
   "name": "python3"
  },
  "language_info": {
   "codemirror_mode": {
    "name": "ipython",
    "version": 3
   },
   "file_extension": ".py",
   "mimetype": "text/x-python",
   "name": "python",
   "nbconvert_exporter": "python",
   "pygments_lexer": "ipython3",
   "version": "3.9.9"
  }
 },
 "nbformat": 4,
 "nbformat_minor": 2
}
